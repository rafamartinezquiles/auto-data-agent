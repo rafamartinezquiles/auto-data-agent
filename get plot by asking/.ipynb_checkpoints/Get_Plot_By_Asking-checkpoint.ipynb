{
  "cells": [
    {
      "cell_type": "markdown",
      "source": [
        "# Get Plot By Asking\n",
        "\n",
        "Built with popular dependencies, this program helps you plot barplots just asking question. For example: The user will be asked to upload a dataset and the program will show the exisitng features. Then the program will ask you your desired vairables which must have numerical values. Make sure you have properly named the vairable names."
      ],
      "metadata": {
        "id": "1Ehbn6cEoSdX"
      }
    },
    {
      "cell_type": "code",
      "execution_count": null,
      "metadata": {
        "collapsed": true,
        "id": "jUkNDfGMguYb"
      },
      "outputs": [],
      "source": [
        "#Install Dependencies\n",
        "!pip install spacy\n",
        "!python -m spacy download en_core_web_sm"
      ]
    },
    {
      "cell_type": "markdown",
      "metadata": {
        "id": "je9_MIdR9a4W"
      },
      "source": []
    },
    {
      "cell_type": "code",
      "execution_count": null,
      "metadata": {
        "colab": {
          "background_save": true
        },
        "id": "0PFrOYSkhLMG"
      },
      "outputs": [],
      "source": [
        "# Import libraries\n",
        "import pandas as pd\n",
        "import matplotlib.pyplot as plt\n",
        "import spacy\n",
        "from google.colab import files  # Import for file upload in Colab\n",
        "\n",
        "# Load the SpaCy English model for NLP\n",
        "nlp = spacy.load(\"en_core_web_sm\")\n",
        "\n",
        "# Function to upload a dataset\n",
        "def upload_dataset():\n",
        "    try:\n",
        "        uploaded = files.upload()  # Opens file upload dialog\n",
        "        file_name = list(uploaded.keys())[0]  # Get the uploaded file name\n",
        "        df = pd.read_csv(file_name)\n",
        "        print(\"Dataset uploaded successfully!\")\n",
        "        print(\"Columns in the dataset:\", df.columns)\n",
        "        return df\n",
        "    except Exception as e:\n",
        "        print(\"An error occurred while uploading the dataset:\", e)\n",
        "        return None\n",
        "\n",
        "# Function to analyze the question and identify variables\n",
        "def get_plot_variables(df):\n",
        "    question = input(\"What would you like to plot? (e.g., 'Show the bar plot of sales by region')\\n\")\n",
        "    doc = nlp(question.lower())\n",
        "\n",
        "    # Extracting possible variables by matching with dataframe columns\n",
        "    possible_variables = [col for col in df.columns if any(col.lower() in token.text for token in doc)]\n",
        "\n",
        "    # Ensure we have two variables (one for x-axis and one for y-axis)\n",
        "    if len(possible_variables) < 2:\n",
        "        print(\"Could not identify two distinct variables for the plot. Please ask again.\")\n",
        "        return None, None\n",
        "\n",
        "    return possible_variables[0], possible_variables[1]\n",
        "\n",
        "# Function to create and display a bar plot\n",
        "def create_bar_plot(df, x_var, y_var):\n",
        "    plt.figure(figsize=(10, 6))\n",
        "    plt.bar(df[x_var], df[y_var])\n",
        "    plt.xlabel(x_var)\n",
        "    plt.ylabel(y_var)\n",
        "    plt.title(f\"Bar Plot of {y_var} by {x_var}\")\n",
        "    plt.show()\n",
        "\n",
        "# Main program flow\n",
        "def main():\n",
        "    df = upload_dataset()\n",
        "    if df is not None:\n",
        "        x_var, y_var = get_plot_variables(df)\n",
        "        if x_var and y_var:\n",
        "            create_bar_plot(df, x_var, y_var)\n",
        "        else:\n",
        "            print(\"Plot could not be created due to missing variables.\")\n",
        "\n",
        "# Run the main function\n",
        "main()"
      ]
    }
  ],
  "metadata": {
    "colab": {
      "provenance": []
    },
    "kernelspec": {
      "display_name": "Python 3",
      "name": "python3"
    },
    "language_info": {
      "name": "python"
    }
  },
  "nbformat": 4,
  "nbformat_minor": 0
}